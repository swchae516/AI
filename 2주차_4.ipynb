{
  "nbformat": 4,
  "nbformat_minor": 0,
  "metadata": {
    "colab": {
      "name": "2주차_4.ipynb",
      "provenance": [],
      "authorship_tag": "ABX9TyPxGmaCbu6mtFFtuzce/z2c",
      "include_colab_link": true
    },
    "kernelspec": {
      "name": "python3",
      "display_name": "Python 3"
    }
  },
  "cells": [
    {
      "cell_type": "markdown",
      "metadata": {
        "id": "view-in-github",
        "colab_type": "text"
      },
      "source": [
        "<a href=\"https://colab.research.google.com/github/swchae516/AI/blob/master/2%EC%A3%BC%EC%B0%A8_4.ipynb\" target=\"_parent\"><img src=\"https://colab.research.google.com/assets/colab-badge.svg\" alt=\"Open In Colab\"/></a>"
      ]
    },
    {
      "cell_type": "markdown",
      "metadata": {
        "id": "grn6W3utFzLs",
        "colab_type": "text"
      },
      "source": [
        "머신러닝은 데이터를 이해하는 알고리즘의 과학이자 하나의 어플리케이션이다."
      ]
    },
    {
      "cell_type": "markdown",
      "metadata": {
        "id": "4Nab1-cjF65X",
        "colab_type": "text"
      },
      "source": [
        "20세기 후반 데이터에서 지식을 추출하여 가까운 미래를 예측하는 self-learning 알고리즘과 관련된 인공지능의 하위분야로 머신러닝이 출현하였다."
      ]
    },
    {
      "cell_type": "markdown",
      "metadata": {
        "id": "BBtAdgl2GR8T",
        "colab_type": "text"
      },
      "source": [
        "이러한 기술의 발전은, 인간이 직접 대량의 데이터를 분석하고, 규칙을 유도하며 모델을 구축하는 ***기호 주의 방식***에서 벗어나 머신러닝을 통해 데이터에서 더 효율적으로 지식을 추출하고 이를 바탕으로 예측 모델과 데이터 기반의 의사결정을 진행 즉 성능 및 효율성을 포함한 모든 부분에서 점진적으로 성장할 수 있었다."
      ]
    },
    {
      "cell_type": "markdown",
      "metadata": {
        "id": "Ac4tSJqYG1ra",
        "colab_type": "text"
      },
      "source": [
        "광고성 이메일 필터링, 손글씨&음성 인식, 웹 검색 엔진, 체스 대결 프로그램 더 나아가 최근에는 군사용 자율 주행 시스템까지 등장하고 있다."
      ]
    },
    {
      "cell_type": "markdown",
      "metadata": {
        "id": "tuVaHugQHEat",
        "colab_type": "text"
      },
      "source": [
        "머신러닝은 지도학습, 비지도학습, 강화학습으로 분류하고 있다.\n"
      ]
    },
    {
      "cell_type": "markdown",
      "metadata": {
        "id": "1wzxYzgEHMsH",
        "colab_type": "text"
      },
      "source": [
        "***지도학습***의 주요 목적은 레이블된 훈련 데이터를 활용하여 모델을 학습시켜, 본적 없는 가까운 미래 데이터에 대해 예측값을 출력하는 것 **(EX) 광고성 이메일 필터링**"
      ]
    },
    {
      "cell_type": "markdown",
      "metadata": {
        "id": "yiT7Do1nHbST",
        "colab_type": "text"
      },
      "source": [
        "이처럼 광고성 이메일 필터링처럼 개별 클래스 레이블이 있는 지도학습을 ***분류***라고 부른다."
      ]
    },
    {
      "cell_type": "markdown",
      "metadata": {
        "id": "gMRtCM3oHy3z",
        "colab_type": "text"
      },
      "source": [
        "지도학습의 또 다른 종류는 연속적인 값을 예측하는 **회귀(Regression)**가 있다."
      ]
    },
    {
      "cell_type": "markdown",
      "metadata": {
        "id": "Z-OTsPdIH86J",
        "colab_type": "text"
      },
      "source": [
        "**분류(Classification)**는 지도학습의 하위 카테고리에 속해 있다. 이러한 분류는 과거의 관측을 기반으로 새로운 샘플의 **범주형 클래스 레이블**을 예측하는 것이 목적이다."
      ]
    },
    {
      "cell_type": "markdown",
      "metadata": {
        "id": "9fBmUHUIIats",
        "colab_type": "text"
      },
      "source": [
        "클래스 레이블은 이산적이고 순서가 없어 데이터가 속한 그룹으로 이해할 수 있는데 광고성 이메일 감지가 전형적인 이진 분류 작업의 예다."
      ]
    },
    {
      "cell_type": "markdown",
      "metadata": {
        "id": "7n4mntfNI-wv",
        "colab_type": "text"
      },
      "source": [
        "2차원 데이터셋, 지도학습 알고리즘을 사용하여 두 클래스를 구분할 수 있는 규칙을 학습시킨다.\n",
        "이 규칙을 점선으로 표현할 수도 있으며, 이는 ***결정 경계***라고 부른다."
      ]
    },
    {
      "cell_type": "markdown",
      "metadata": {
        "id": "abDQuVGTJN5o",
        "colab_type": "text"
      },
      "source": [
        "다중 분류의 전형적인 예는 ***손글씨 인식***이다."
      ]
    },
    {
      "cell_type": "markdown",
      "metadata": {
        "id": "Xjehj2mDJiCX",
        "colab_type": "text"
      },
      "source": [
        "***회귀***는 데이터가 주어졌을 때 연속적인 출력값을 예측하는 기법이다. 머신러닝 알고리즘은 입력 데이터와 출력값이 주어졌을 때 두 변수 사이의 관계를 탐색한다."
      ]
    },
    {
      "cell_type": "markdown",
      "metadata": {
        "id": "zs89QXuXJ9gl",
        "colab_type": "text"
      },
      "source": [
        "***강화학습***의 목표는 환경이란 개념과 상호작용하며 에이전트의 성능을 향상시키는 것이다."
      ]
    },
    {
      "cell_type": "markdown",
      "metadata": {
        "id": "cKdGCZN9Kn8J",
        "colab_type": "text"
      },
      "source": [
        "환경의 현재 상태 정보는 **보상 신호**라는 것을 포함하기 때문에 강화 학습을 지도학습과 관련된 분야로 생각할 수도 있지만, 이 강화 학습의 피드백은 정답 레이블이나 수치가 아니다. **보상 함수**라는 것을 통해 에이전트가 취한 행동이 얼마나 좋은 행동인지 혹은 좋지 못한 행동인지를 측정한 값이다."
      ]
    },
    {
      "cell_type": "markdown",
      "metadata": {
        "id": "1lkijDF5LJYO",
        "colab_type": "text"
      },
      "source": [
        "에이전트는 환경과 핑퐁하며 보상이 최대화되는 일련의 행동을 강화 학습을 통해 학습한다."
      ]
    },
    {
      "cell_type": "markdown",
      "metadata": {
        "id": "NNiAcp8ZLULn",
        "colab_type": "text"
      },
      "source": [
        " 강화 학습의 대표적인 예는 게임이다. 2014년 딥 마인드는 알파고의 전신인 강화 학습의 연장선에 있는 Deep-Q-Network를 통해 아타리 게임의 절반 이상에서 사람보다 더 높은 스코어를 달성한다."
      ]
    },
    {
      "cell_type": "markdown",
      "metadata": {
        "id": "pJq82Ok-LpSL",
        "colab_type": "text"
      },
      "source": [
        "최근 2020년 4월 딥마인드는 다시한번 인공지는 에이전트 57을 공개, 이 인공지능은 아타리 게임의 57종 모두를 마스터했다."
      ]
    },
    {
      "cell_type": "markdown",
      "metadata": {
        "id": "B-0Jjzc5L2mY",
        "colab_type": "text"
      },
      "source": [
        "강화학습은 앞서 말한 것처럼 보상이 최대화되는 일련의 행동을 통해 학습을 진행한다."
      ]
    },
    {
      "cell_type": "markdown",
      "metadata": {
        "id": "QbjEeayMMHp-",
        "colab_type": "text"
      },
      "source": [
        "***비지도 학습***에서는 레이블 되지 않거나 구조를 알 수 없는 데이터를 다룬다."
      ]
    },
    {
      "cell_type": "markdown",
      "metadata": {
        "id": "qFQ5HiU6Mell",
        "colab_type": "text"
      },
      "source": [
        "즉, 비지도학습을 사용하면 출력값이나 보상 함수의 도움 없이도 의미 있는 정보를 추출할 수가 있으며 데이터 구조를 탐색할 수가 있게 된다."
      ]
    },
    {
      "cell_type": "markdown",
      "metadata": {
        "id": "i3rU3GKIMpxE",
        "colab_type": "text"
      },
      "source": [
        "비지도학습에서 활용되고 있는 것 중 다양한 분야에서 활용되는 ***군집**이다."
      ]
    },
    {
      "cell_type": "markdown",
      "metadata": {
        "id": "R50gzwMYM1hA",
        "colab_type": "text"
      },
      "source": [
        "군집은 사전 정보 없이 쌓여있는 그룹 정보를 의미 있는 서브그룹 또는 클러스터로 조직하는 **탐색적 데이터** 분석 기법이다."
      ]
    },
    {
      "cell_type": "markdown",
      "metadata": {
        "id": "toT72uUENBwT",
        "colab_type": "text"
      },
      "source": [
        " 분석 과정에서 만든 각 클러스터는 어느 정도 유사성을 공유하고 다른 데이터(클러스터)와 구분되는 그룹을 형성한다."
      ]
    },
    {
      "cell_type": "markdown",
      "metadata": {
        "id": "RoJj85OtNLAm",
        "colab_type": "text"
      },
      "source": [
        "이처럼 군집은 정보를 조직화하고 데이터에서 의미 있는 관계를 유도하는 훌륭한 도구이다."
      ]
    },
    {
      "cell_type": "markdown",
      "metadata": {
        "id": "4T2ects1NXm8",
        "colab_type": "text"
      },
      "source": [
        "**차원 축소**는 비지도 학습의 또 다른 하위 분야로, 고차원의 데이터를 저차원으로 축소하는 기법이다."
      ]
    },
    {
      "cell_type": "markdown",
      "metadata": {
        "id": "uyKQti_SNhko",
        "colab_type": "text"
      },
      "source": [
        " 비지도 차원축소 기법은 대부분의 정보를 유지하면서 더 작은 차원의 부분 공간으로 데이터를 압축시킨다."
      ]
    },
    {
      "cell_type": "markdown",
      "metadata": {
        "id": "z7gFqR-CNuZK",
        "colab_type": "text"
      },
      "source": [
        ""
      ]
    }
  ]
}