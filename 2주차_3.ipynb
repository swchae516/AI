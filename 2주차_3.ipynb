{
  "nbformat": 4,
  "nbformat_minor": 0,
  "metadata": {
    "colab": {
      "name": "Untitled0.ipynb",
      "provenance": [],
      "authorship_tag": "ABX9TyNHAvC2ETj/7I7+S8IABaRj",
      "include_colab_link": true
    },
    "kernelspec": {
      "name": "python3",
      "display_name": "Python 3"
    }
  },
  "cells": [
    {
      "cell_type": "markdown",
      "metadata": {
        "id": "view-in-github",
        "colab_type": "text"
      },
      "source": [
        "<a href=\"https://colab.research.google.com/github/swchae516/AI/blob/master/2%EC%A3%BC%EC%B0%A8_3.ipynb\" target=\"_parent\"><img src=\"https://colab.research.google.com/assets/colab-badge.svg\" alt=\"Open In Colab\"/></a>"
      ]
    },
    {
      "cell_type": "markdown",
      "metadata": {
        "id": "iW9DVJv485ab",
        "colab_type": "text"
      },
      "source": [
        "함수와 클래스는 코드를 반복해서 작성할 필요가 없다."
      ]
    },
    {
      "cell_type": "code",
      "metadata": {
        "id": "OeSgM6tA9KIF",
        "colab_type": "code",
        "colab": {}
      },
      "source": [
        "def print_hello():\n",
        "  print('Hi, AI')\n",
        "  print('It\\'s me')"
      ],
      "execution_count": 1,
      "outputs": []
    },
    {
      "cell_type": "code",
      "metadata": {
        "id": "NF9LUvpS9h1_",
        "colab_type": "code",
        "colab": {
          "base_uri": "https://localhost:8080/",
          "height": 122
        },
        "outputId": "5109ca91-3d59-415a-b11c-243b3ad6f153"
      },
      "source": [
        "print_hello()\n",
        "print_hello()\n",
        "print_hello()"
      ],
      "execution_count": 2,
      "outputs": [
        {
          "output_type": "stream",
          "text": [
            "Hi, AI\n",
            "It's me\n",
            "Hi, AI\n",
            "It's me\n",
            "Hi, AI\n",
            "It's me\n"
          ],
          "name": "stdout"
        }
      ]
    },
    {
      "cell_type": "markdown",
      "metadata": {
        "id": "VrJ8-RJe9uVl",
        "colab_type": "text"
      },
      "source": [
        "함수 반환"
      ]
    },
    {
      "cell_type": "code",
      "metadata": {
        "id": "gyu9NADL9xph",
        "colab_type": "code",
        "colab": {}
      },
      "source": [
        "def my_sum(a,b):\n",
        "  res = a + b\n",
        "  return res"
      ],
      "execution_count": 3,
      "outputs": []
    },
    {
      "cell_type": "code",
      "metadata": {
        "id": "EsYbIKvN94sX",
        "colab_type": "code",
        "colab": {
          "base_uri": "https://localhost:8080/",
          "height": 34
        },
        "outputId": "74054988-fc9a-47d2-e7ad-a70d27687a48"
      },
      "source": [
        "res = my_sum(10,15)\n",
        "print(res)"
      ],
      "execution_count": 4,
      "outputs": [
        {
          "output_type": "stream",
          "text": [
            "25\n"
          ],
          "name": "stdout"
        }
      ]
    },
    {
      "cell_type": "markdown",
      "metadata": {
        "id": "ih6vAal2-I2B",
        "colab_type": "text"
      },
      "source": [
        "내장 함수는 효율적으로 프로그램에 집중할 수 있도록 다양한 기능들을 제공해 주고 있다."
      ]
    },
    {
      "cell_type": "code",
      "metadata": {
        "id": "zz5Fo-Tv-K6z",
        "colab_type": "code",
        "colab": {
          "base_uri": "https://localhost:8080/",
          "height": 34
        },
        "outputId": "87d8742e-2f51-4452-9e11-bf12922d8266"
      },
      "source": [
        "a = [1,3,5,6,10]\n",
        "len(a)"
      ],
      "execution_count": 7,
      "outputs": [
        {
          "output_type": "execute_result",
          "data": {
            "text/plain": [
              "5"
            ]
          },
          "metadata": {
            "tags": []
          },
          "execution_count": 7
        }
      ]
    },
    {
      "cell_type": "code",
      "metadata": {
        "id": "gUg6B3Hs-epG",
        "colab_type": "code",
        "colab": {
          "base_uri": "https://localhost:8080/",
          "height": 34
        },
        "outputId": "16ff2a68-dce7-4142-edda-6ce4a31b1ed8"
      },
      "source": [
        "a = input(\"your input:\")"
      ],
      "execution_count": 8,
      "outputs": [
        {
          "output_type": "stream",
          "text": [
            "your input:d\n"
          ],
          "name": "stdout"
        }
      ]
    },
    {
      "cell_type": "code",
      "metadata": {
        "id": "OTWJrn5T-qO0",
        "colab_type": "code",
        "colab": {
          "base_uri": "https://localhost:8080/",
          "height": 34
        },
        "outputId": "6a60c85a-2c64-485e-bb37-e6b00cc71b9b"
      },
      "source": [
        "range(0,3,1)"
      ],
      "execution_count": 9,
      "outputs": [
        {
          "output_type": "execute_result",
          "data": {
            "text/plain": [
              "range(0, 3)"
            ]
          },
          "metadata": {
            "tags": []
          },
          "execution_count": 9
        }
      ]
    },
    {
      "cell_type": "markdown",
      "metadata": {
        "id": "WWKf03r0-1bI",
        "colab_type": "text"
      },
      "source": [
        "클래스는 함수와 마찬가지로 코드의 반복을 줄이기 위해서도 사용되지만, 대체로 규모가 큰 프로그램을 만들 때 개발자가 코드를 잘 이해하기 위해 사용된다."
      ]
    },
    {
      "cell_type": "markdown",
      "metadata": {
        "id": "oHj02-1F_RpP",
        "colab_type": "text"
      },
      "source": [
        "클래스의 특이한 점은 함수와 달리 self라는 전달 값이 추가된 점이다. 이는 실제 전달 값이 아닌 파이썬 내부에서 사용되는 약속된 값이라 이해하면 된다."
      ]
    },
    {
      "cell_type": "code",
      "metadata": {
        "id": "Evf6Rh2S_fBK",
        "colab_type": "code",
        "colab": {
          "base_uri": "https://localhost:8080/",
          "height": 228
        },
        "outputId": "c8cb4c10-4c93-4a48-d359-244595fcf61d"
      },
      "source": [
        "class Email:\n",
        "  sender = \"\"\n",
        "\n",
        "  def send_mail(self, recv, subject, contents):\n",
        "    print(\"From:\\t.\" + self.sender)\n",
        "    print(\"To:\\t\" + recv)\n",
        "    print(\"Subject:\" + subject)\n",
        "    print(\"Contents\")\n",
        "    print(contents)\n",
        "    print(\"-\"*20)\n",
        "\n",
        "e = Email()\n",
        "e.sender = \"airim@naver.com\"\n",
        "recv_list = [\"swchae516@naver.com\", \"ghuss2@naver.com\"]\n",
        "\n",
        "for recv in recv_list:\n",
        "  e.send_mail(recv, \"광주 인공지능 사관학교에 오신 것을 환영합니다.\", \"이번 온라인 강의는 함수와 클래스 입니다.\")"
      ],
      "execution_count": 12,
      "outputs": [
        {
          "output_type": "stream",
          "text": [
            "From:\t.airim@naver.com\n",
            "To:\tswchae516@naver.com\n",
            "Subject:광주 인공지능 사관학교에 오신 것을 환영합니다.\n",
            "Contents\n",
            "이번 온라인 강의는 함수와 클래스 입니다.\n",
            "--------------------\n",
            "From:\t.airim@naver.com\n",
            "To:\tghuss2@naver.com\n",
            "Subject:광주 인공지능 사관학교에 오신 것을 환영합니다.\n",
            "Contents\n",
            "이번 온라인 강의는 함수와 클래스 입니다.\n",
            "--------------------\n"
          ],
          "name": "stdout"
        }
      ]
    },
    {
      "cell_type": "markdown",
      "metadata": {
        "id": "Y98upmy5CWEq",
        "colab_type": "text"
      },
      "source": [
        "클래스의 활용"
      ]
    },
    {
      "cell_type": "code",
      "metadata": {
        "id": "xJH1_gB5CbdR",
        "colab_type": "code",
        "colab": {
          "base_uri": "https://localhost:8080/",
          "height": 310
        },
        "outputId": "184d8da1-7865-463e-ec87-b71d2b467c99"
      },
      "source": [
        "from apfhd import Email"
      ],
      "execution_count": 17,
      "outputs": [
        {
          "output_type": "error",
          "ename": "ModuleNotFoundError",
          "evalue": "ignored",
          "traceback": [
            "\u001b[0;31m---------------------------------------------------------------------------\u001b[0m",
            "\u001b[0;31mModuleNotFoundError\u001b[0m                       Traceback (most recent call last)",
            "\u001b[0;32m<ipython-input-17-16925c95c7a1>\u001b[0m in \u001b[0;36m<module>\u001b[0;34m()\u001b[0m\n\u001b[0;32m----> 1\u001b[0;31m \u001b[0;32mfrom\u001b[0m \u001b[0mapfhd\u001b[0m \u001b[0;32mimport\u001b[0m \u001b[0mEmail\u001b[0m\u001b[0;34m\u001b[0m\u001b[0;34m\u001b[0m\u001b[0m\n\u001b[0m",
            "\u001b[0;31mModuleNotFoundError\u001b[0m: No module named 'apfhd'",
            "",
            "\u001b[0;31m---------------------------------------------------------------------------\u001b[0;32m\nNOTE: If your import is failing due to a missing package, you can\nmanually install dependencies using either !pip or !apt.\n\nTo view examples of installing some common dependencies, click the\n\"Open Examples\" button below.\n\u001b[0;31m---------------------------------------------------------------------------\u001b[0m\n"
          ]
        }
      ]
    },
    {
      "cell_type": "code",
      "metadata": {
        "id": "wwTdgdfvDDwO",
        "colab_type": "code",
        "colab": {}
      },
      "source": [
        ""
      ],
      "execution_count": null,
      "outputs": []
    }
  ]
}